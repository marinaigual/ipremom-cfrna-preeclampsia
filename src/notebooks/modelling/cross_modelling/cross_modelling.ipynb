{
 "cells": [
  {
   "cell_type": "markdown",
   "metadata": {},
   "source": [
    "# Imports"
   ]
  },
  {
   "cell_type": "code",
   "execution_count": null,
   "metadata": {},
   "outputs": [],
   "source": [
    "import pandas as pd\n",
    "import numpy as np\n",
    "import seaborn as sns\n",
    "import matplotlib.pyplot as plt\n",
    "\n",
    "\n",
    "import os\n",
    "import sys\n",
    "sys.path.append(os.path.abspath(\"/home/dferri/ipremom/model/v45/tg-cfrna-modeling-totrna\"))"
   ]
  },
  {
   "cell_type": "code",
   "execution_count": 70,
   "metadata": {},
   "outputs": [],
   "source": [
    "from src.utils.data_loader import get_train_validation_input, get_train_validation_input_pandas\n",
    "from src.utils.data_loader import load_predictor\n",
    "from src.utils.data_loader import load_numeric_data\n",
    "\n",
    "from src.utils.model_optimizer.evaluator import calculate_metrics\n",
    "from src.utils.model_optimizer.optimizer import CellScaler\n",
    "\n",
    "from src.utils.RNAseq_utils.RNAseq_utils import (LOPE_samples,\n",
    "                                                 EOPE_samples,\n",
    "                                                 control_samples,\n",
    "                                                 assign_group)"
   ]
  },
  {
   "cell_type": "code",
   "execution_count": 71,
   "metadata": {},
   "outputs": [],
   "source": [
    "file_paths = {\n",
    "    \"EOPE T1\": \"../../../../input/final_models/EOPE_T1/input_model_eope_ctr_t1_v6_36g_281024.csv\",\n",
    "    \"EOPE T2\": \"../../../../input/final_models/EOPE_T2/input_model_eope_ctr_t2_v6_87g_281024.csv\",\n",
    "    \"LOPE T1\": \"../../../../input/final_models/LOPE_T1/input_model_lope_ctr_t1_v6_19g_281024.csv\",\n",
    "    \"LOPE T2\": \"../../../../input/final_models/LOPE_T2/input_model_lope_ctr_t2_v6_94g_281024.csv\"\n",
    "}\n",
    "\n",
    "file_paths_all_genes = {\n",
    "    \"EOPE T1\": \"../../../../input/final_models/EOPE_T1/limma_counts_normal_eope_ctr_t1_not_hb.csv\",\n",
    "    \"EOPE T2\": \"../../../../input/final_models/EOPE_T2/limma_counts_normal_eope_ctr_t2_not_hb.csv\",\n",
    "    \"LOPE T1\": \"../../../../input/final_models/LOPE_T1/limma_counts_normal_lope_ctr_t1_not_hb.csv\",\n",
    "    \"LOPE T2\": \"../../../../input/final_models/LOPE_T2/limma_counts_normal_lope_ctr_t2_not_hb.csv\"\n",
    "}\n",
    "\n",
    "model_paths = {\n",
    "    \"EOPE T1\": \"../../../../input/final_models/EOPE_T1/eope_t1_TabPFNClassifier_optimal_281024.sav\",\n",
    "    \"EOPE T2\": \"../../../../input/final_models/EOPE_T2/eope_t2_svm_optimal_281024.sav\",\n",
    "    \"LOPE T1\": \"../../../../input/final_models/LOPE_T1/lope_t1_svm_optimal_281024.sav\",\n",
    "    \"LOPE T2\": \"../../../../input/final_models/LOPE_T2/lope_t2_TabPFNClassifier_optimal_281024.sav\"\n",
    "}\n",
    "\n",
    "# Define the thresholds for each type of PE\n",
    "thresholds = {\n",
    "    \"EOPE T1\": 0.601,\n",
    "    \"EOPE T2\": 0.288,\n",
    "    \"LOPE T1\": 0.264,\n",
    "    \"LOPE T2\": 0.479\n",
    "}"
   ]
  },
  {
   "cell_type": "markdown",
   "metadata": {},
   "source": [
    "# Code"
   ]
  },
  {
   "cell_type": "code",
   "execution_count": 72,
   "metadata": {},
   "outputs": [
    {
     "name": "stdout",
     "output_type": "stream",
     "text": [
      "--------------- Taking EOPE T1 model and genes to testing -----------------\n",
      "Testing with EOPE T1 data\n"
     ]
    },
    {
     "name": "stderr",
     "output_type": "stream",
     "text": [
      "/home/dferri/ipremom/model/v45/tg-cfrna-modeling-totrna/.venv/lib/python3.10/site-packages/torch/_dynamo/eval_frame.py:632: UserWarning: torch.utils.checkpoint: the use_reentrant parameter should be passed explicitly. In version 2.5 we will raise an exception if use_reentrant is not passed. use_reentrant=False is recommended, but if you need to preserve the current default behavior, you can pass use_reentrant=True. Refer to docs for more details on the differences between the two variants.\n",
      "  return fn(*args, **kwargs)\n"
     ]
    },
    {
     "name": "stdout",
     "output_type": "stream",
     "text": [
      "Testing with EOPE T2 data\n"
     ]
    },
    {
     "name": "stderr",
     "output_type": "stream",
     "text": [
      "/home/dferri/ipremom/model/v45/tg-cfrna-modeling-totrna/.venv/lib/python3.10/site-packages/torch/_dynamo/eval_frame.py:632: UserWarning: torch.utils.checkpoint: the use_reentrant parameter should be passed explicitly. In version 2.5 we will raise an exception if use_reentrant is not passed. use_reentrant=False is recommended, but if you need to preserve the current default behavior, you can pass use_reentrant=True. Refer to docs for more details on the differences between the two variants.\n",
      "  return fn(*args, **kwargs)\n"
     ]
    },
    {
     "name": "stdout",
     "output_type": "stream",
     "text": [
      "Testing with LOPE T1 data\n",
      "Gene MRPL38 not found in LOPE T1 data. Adding it with 0 values.\n",
      "Testing with LOPE T2 data\n"
     ]
    },
    {
     "name": "stderr",
     "output_type": "stream",
     "text": [
      "/home/dferri/ipremom/model/v45/tg-cfrna-modeling-totrna/.venv/lib/python3.10/site-packages/pandas/core/dtypes/cast.py:1641: DeprecationWarning: np.find_common_type is deprecated.  Please use `np.result_type` or `np.promote_types`.\n",
      "See https://numpy.org/devdocs/release/1.25.0-notes.html and the docs for more information.  (Deprecated NumPy 1.25)\n",
      "  return np.find_common_type(types, [])\n",
      "/home/dferri/ipremom/model/v45/tg-cfrna-modeling-totrna/.venv/lib/python3.10/site-packages/torch/_dynamo/eval_frame.py:632: UserWarning: torch.utils.checkpoint: the use_reentrant parameter should be passed explicitly. In version 2.5 we will raise an exception if use_reentrant is not passed. use_reentrant=False is recommended, but if you need to preserve the current default behavior, you can pass use_reentrant=True. Refer to docs for more details on the differences between the two variants.\n",
      "  return fn(*args, **kwargs)\n",
      "/home/dferri/ipremom/model/v45/tg-cfrna-modeling-totrna/.venv/lib/python3.10/site-packages/torch/_dynamo/eval_frame.py:632: UserWarning: torch.utils.checkpoint: the use_reentrant parameter should be passed explicitly. In version 2.5 we will raise an exception if use_reentrant is not passed. use_reentrant=False is recommended, but if you need to preserve the current default behavior, you can pass use_reentrant=True. Refer to docs for more details on the differences between the two variants.\n",
      "  return fn(*args, **kwargs)\n"
     ]
    },
    {
     "name": "stdout",
     "output_type": "stream",
     "text": [
      "\n",
      "\n",
      "--------------- Taking EOPE T2 model and genes to testing -----------------\n",
      "Testing with EOPE T1 data\n",
      "Gene MT-TG not found in EOPE T1 data. Adding it with 0 values.\n",
      "Testing with EOPE T2 data\n"
     ]
    },
    {
     "name": "stderr",
     "output_type": "stream",
     "text": [
      "/home/dferri/ipremom/model/v45/tg-cfrna-modeling-totrna/.venv/lib/python3.10/site-packages/sklearn/base.py:486: UserWarning: X has feature names, but SVC was fitted without feature names\n",
      "  warnings.warn(\n",
      "/home/dferri/ipremom/model/v45/tg-cfrna-modeling-totrna/.venv/lib/python3.10/site-packages/pandas/core/dtypes/cast.py:1641: DeprecationWarning: np.find_common_type is deprecated.  Please use `np.result_type` or `np.promote_types`.\n",
      "See https://numpy.org/devdocs/release/1.25.0-notes.html and the docs for more information.  (Deprecated NumPy 1.25)\n",
      "  return np.find_common_type(types, [])\n",
      "/home/dferri/ipremom/model/v45/tg-cfrna-modeling-totrna/.venv/lib/python3.10/site-packages/sklearn/base.py:486: UserWarning: X has feature names, but SVC was fitted without feature names\n",
      "  warnings.warn(\n"
     ]
    },
    {
     "name": "stdout",
     "output_type": "stream",
     "text": [
      "Testing with LOPE T1 data\n"
     ]
    },
    {
     "name": "stderr",
     "output_type": "stream",
     "text": [
      "/home/dferri/ipremom/model/v45/tg-cfrna-modeling-totrna/.venv/lib/python3.10/site-packages/sklearn/base.py:486: UserWarning: X has feature names, but SVC was fitted without feature names\n",
      "  warnings.warn(\n"
     ]
    },
    {
     "name": "stdout",
     "output_type": "stream",
     "text": [
      "Testing with LOPE T2 data\n"
     ]
    },
    {
     "name": "stderr",
     "output_type": "stream",
     "text": [
      "/home/dferri/ipremom/model/v45/tg-cfrna-modeling-totrna/.venv/lib/python3.10/site-packages/sklearn/base.py:486: UserWarning: X has feature names, but SVC was fitted without feature names\n",
      "  warnings.warn(\n"
     ]
    },
    {
     "name": "stdout",
     "output_type": "stream",
     "text": [
      "\n",
      "\n",
      "--------------- Taking LOPE T1 model and genes to testing -----------------\n",
      "Testing with EOPE T1 data\n",
      "Gene ENSG00000229721 not found in EOPE T1 data. Adding it with 0 values.\n",
      "Gene ENSG00000216809 not found in EOPE T1 data. Adding it with 0 values.\n",
      "Testing with EOPE T2 data\n"
     ]
    },
    {
     "name": "stderr",
     "output_type": "stream",
     "text": [
      "/home/dferri/ipremom/model/v45/tg-cfrna-modeling-totrna/.venv/lib/python3.10/site-packages/sklearn/base.py:486: UserWarning: X has feature names, but SVC was fitted without feature names\n",
      "  warnings.warn(\n",
      "/home/dferri/ipremom/model/v45/tg-cfrna-modeling-totrna/.venv/lib/python3.10/site-packages/pandas/core/dtypes/cast.py:1641: DeprecationWarning: np.find_common_type is deprecated.  Please use `np.result_type` or `np.promote_types`.\n",
      "See https://numpy.org/devdocs/release/1.25.0-notes.html and the docs for more information.  (Deprecated NumPy 1.25)\n",
      "  return np.find_common_type(types, [])\n",
      "/home/dferri/ipremom/model/v45/tg-cfrna-modeling-totrna/.venv/lib/python3.10/site-packages/sklearn/base.py:486: UserWarning: X has feature names, but SVC was fitted without feature names\n",
      "  warnings.warn(\n"
     ]
    },
    {
     "name": "stdout",
     "output_type": "stream",
     "text": [
      "Testing with LOPE T1 data\n"
     ]
    },
    {
     "name": "stderr",
     "output_type": "stream",
     "text": [
      "/home/dferri/ipremom/model/v45/tg-cfrna-modeling-totrna/.venv/lib/python3.10/site-packages/sklearn/base.py:486: UserWarning: X has feature names, but SVC was fitted without feature names\n",
      "  warnings.warn(\n"
     ]
    },
    {
     "name": "stdout",
     "output_type": "stream",
     "text": [
      "Testing with LOPE T2 data\n"
     ]
    },
    {
     "name": "stderr",
     "output_type": "stream",
     "text": [
      "/home/dferri/ipremom/model/v45/tg-cfrna-modeling-totrna/.venv/lib/python3.10/site-packages/sklearn/base.py:486: UserWarning: X has feature names, but SVC was fitted without feature names\n",
      "  warnings.warn(\n"
     ]
    },
    {
     "name": "stdout",
     "output_type": "stream",
     "text": [
      "\n",
      "\n",
      "--------------- Taking LOPE T2 model and genes to testing -----------------\n",
      "Testing with EOPE T1 data\n",
      "Gene CFAP20DC-AS1 not found in EOPE T1 data. Adding it with 0 values.\n",
      "Gene ENSG00000287552 not found in EOPE T1 data. Adding it with 0 values.\n",
      "Gene CUL4AP1 not found in EOPE T1 data. Adding it with 0 values.\n",
      "Gene ENSG00000200235 not found in EOPE T1 data. Adding it with 0 values.\n",
      "Gene ENSG00000287825 not found in EOPE T1 data. Adding it with 0 values.\n",
      "Gene ATP5F1AP10 not found in EOPE T1 data. Adding it with 0 values.\n",
      "Gene ENSG00000285974 not found in EOPE T1 data. Adding it with 0 values.\n",
      "Gene ENSG00000266489 not found in EOPE T1 data. Adding it with 0 values.\n",
      "Gene TBL1Y not found in EOPE T1 data. Adding it with 0 values.\n"
     ]
    },
    {
     "name": "stderr",
     "output_type": "stream",
     "text": [
      "/home/dferri/ipremom/model/v45/tg-cfrna-modeling-totrna/.venv/lib/python3.10/site-packages/pandas/core/dtypes/cast.py:1641: DeprecationWarning: np.find_common_type is deprecated.  Please use `np.result_type` or `np.promote_types`.\n",
      "See https://numpy.org/devdocs/release/1.25.0-notes.html and the docs for more information.  (Deprecated NumPy 1.25)\n",
      "  return np.find_common_type(types, [])\n",
      "/home/dferri/ipremom/model/v45/tg-cfrna-modeling-totrna/.venv/lib/python3.10/site-packages/torch/_dynamo/eval_frame.py:632: UserWarning: torch.utils.checkpoint: the use_reentrant parameter should be passed explicitly. In version 2.5 we will raise an exception if use_reentrant is not passed. use_reentrant=False is recommended, but if you need to preserve the current default behavior, you can pass use_reentrant=True. Refer to docs for more details on the differences between the two variants.\n",
      "  return fn(*args, **kwargs)\n"
     ]
    },
    {
     "name": "stdout",
     "output_type": "stream",
     "text": [
      "Testing with EOPE T2 data\n",
      "Gene C2CD4D not found in EOPE T2 data. Adding it with 0 values.\n",
      "Gene CUL4AP1 not found in EOPE T2 data. Adding it with 0 values.\n",
      "Gene ENSG00000287825 not found in EOPE T2 data. Adding it with 0 values.\n",
      "Gene SLC29A4P2 not found in EOPE T2 data. Adding it with 0 values.\n",
      "Gene HIGD1AP6 not found in EOPE T2 data. Adding it with 0 values.\n",
      "Gene IGHV1-69-2 not found in EOPE T2 data. Adding it with 0 values.\n",
      "Gene ENSG00000285974 not found in EOPE T2 data. Adding it with 0 values.\n"
     ]
    },
    {
     "name": "stderr",
     "output_type": "stream",
     "text": [
      "/home/dferri/ipremom/model/v45/tg-cfrna-modeling-totrna/.venv/lib/python3.10/site-packages/pandas/core/dtypes/cast.py:1641: DeprecationWarning: np.find_common_type is deprecated.  Please use `np.result_type` or `np.promote_types`.\n",
      "See https://numpy.org/devdocs/release/1.25.0-notes.html and the docs for more information.  (Deprecated NumPy 1.25)\n",
      "  return np.find_common_type(types, [])\n",
      "/home/dferri/ipremom/model/v45/tg-cfrna-modeling-totrna/.venv/lib/python3.10/site-packages/torch/_dynamo/eval_frame.py:632: UserWarning: torch.utils.checkpoint: the use_reentrant parameter should be passed explicitly. In version 2.5 we will raise an exception if use_reentrant is not passed. use_reentrant=False is recommended, but if you need to preserve the current default behavior, you can pass use_reentrant=True. Refer to docs for more details on the differences between the two variants.\n",
      "  return fn(*args, **kwargs)\n"
     ]
    },
    {
     "name": "stdout",
     "output_type": "stream",
     "text": [
      "Testing with LOPE T1 data\n",
      "Gene DPP10-AS1 not found in LOPE T1 data. Adding it with 0 values.\n",
      "Gene CFAP20DC-AS1 not found in LOPE T1 data. Adding it with 0 values.\n",
      "Gene ENSG00000287552 not found in LOPE T1 data. Adding it with 0 values.\n",
      "Gene CUL4AP1 not found in LOPE T1 data. Adding it with 0 values.\n",
      "Gene ENSG00000200235 not found in LOPE T1 data. Adding it with 0 values.\n",
      "Gene ENSG00000287825 not found in LOPE T1 data. Adding it with 0 values.\n",
      "Gene ENSG00000285974 not found in LOPE T1 data. Adding it with 0 values.\n",
      "Gene ENSG00000266489 not found in LOPE T1 data. Adding it with 0 values.\n"
     ]
    },
    {
     "name": "stderr",
     "output_type": "stream",
     "text": [
      "/home/dferri/ipremom/model/v45/tg-cfrna-modeling-totrna/.venv/lib/python3.10/site-packages/pandas/core/dtypes/cast.py:1641: DeprecationWarning: np.find_common_type is deprecated.  Please use `np.result_type` or `np.promote_types`.\n",
      "See https://numpy.org/devdocs/release/1.25.0-notes.html and the docs for more information.  (Deprecated NumPy 1.25)\n",
      "  return np.find_common_type(types, [])\n",
      "/home/dferri/ipremom/model/v45/tg-cfrna-modeling-totrna/.venv/lib/python3.10/site-packages/torch/_dynamo/eval_frame.py:632: UserWarning: torch.utils.checkpoint: the use_reentrant parameter should be passed explicitly. In version 2.5 we will raise an exception if use_reentrant is not passed. use_reentrant=False is recommended, but if you need to preserve the current default behavior, you can pass use_reentrant=True. Refer to docs for more details on the differences between the two variants.\n",
      "  return fn(*args, **kwargs)\n"
     ]
    },
    {
     "name": "stdout",
     "output_type": "stream",
     "text": [
      "Testing with LOPE T2 data\n",
      "\n",
      "\n"
     ]
    },
    {
     "name": "stderr",
     "output_type": "stream",
     "text": [
      "/home/dferri/ipremom/model/v45/tg-cfrna-modeling-totrna/.venv/lib/python3.10/site-packages/torch/_dynamo/eval_frame.py:632: UserWarning: torch.utils.checkpoint: the use_reentrant parameter should be passed explicitly. In version 2.5 we will raise an exception if use_reentrant is not passed. use_reentrant=False is recommended, but if you need to preserve the current default behavior, you can pass use_reentrant=True. Refer to docs for more details on the differences between the two variants.\n",
      "  return fn(*args, **kwargs)\n"
     ]
    },
    {
     "data": {
      "text/html": [
       "<div>\n",
       "<style scoped>\n",
       "    .dataframe tbody tr th:only-of-type {\n",
       "        vertical-align: middle;\n",
       "    }\n",
       "\n",
       "    .dataframe tbody tr th {\n",
       "        vertical-align: top;\n",
       "    }\n",
       "\n",
       "    .dataframe thead th {\n",
       "        text-align: right;\n",
       "    }\n",
       "</style>\n",
       "<table border=\"1\" class=\"dataframe\">\n",
       "  <thead>\n",
       "    <tr style=\"text-align: right;\">\n",
       "      <th></th>\n",
       "      <th>Model and genes</th>\n",
       "      <th>Data validation</th>\n",
       "      <th>F1_Score</th>\n",
       "      <th>AUC</th>\n",
       "    </tr>\n",
       "  </thead>\n",
       "  <tbody>\n",
       "    <tr>\n",
       "      <th>0</th>\n",
       "      <td>EOPE T1</td>\n",
       "      <td>EOPE T1</td>\n",
       "      <td>93</td>\n",
       "      <td>94</td>\n",
       "    </tr>\n",
       "    <tr>\n",
       "      <th>1</th>\n",
       "      <td>EOPE T1</td>\n",
       "      <td>EOPE T2</td>\n",
       "      <td>42</td>\n",
       "      <td>57</td>\n",
       "    </tr>\n",
       "    <tr>\n",
       "      <th>2</th>\n",
       "      <td>EOPE T1</td>\n",
       "      <td>LOPE T1</td>\n",
       "      <td>42</td>\n",
       "      <td>63</td>\n",
       "    </tr>\n",
       "    <tr>\n",
       "      <th>3</th>\n",
       "      <td>EOPE T1</td>\n",
       "      <td>LOPE T2</td>\n",
       "      <td>52</td>\n",
       "      <td>63</td>\n",
       "    </tr>\n",
       "    <tr>\n",
       "      <th>4</th>\n",
       "      <td>EOPE T2</td>\n",
       "      <td>EOPE T1</td>\n",
       "      <td>49</td>\n",
       "      <td>52</td>\n",
       "    </tr>\n",
       "    <tr>\n",
       "      <th>5</th>\n",
       "      <td>EOPE T2</td>\n",
       "      <td>EOPE T2</td>\n",
       "      <td>78</td>\n",
       "      <td>83</td>\n",
       "    </tr>\n",
       "    <tr>\n",
       "      <th>6</th>\n",
       "      <td>EOPE T2</td>\n",
       "      <td>LOPE T1</td>\n",
       "      <td>41</td>\n",
       "      <td>45</td>\n",
       "    </tr>\n",
       "    <tr>\n",
       "      <th>7</th>\n",
       "      <td>EOPE T2</td>\n",
       "      <td>LOPE T2</td>\n",
       "      <td>35</td>\n",
       "      <td>57</td>\n",
       "    </tr>\n",
       "    <tr>\n",
       "      <th>8</th>\n",
       "      <td>LOPE T1</td>\n",
       "      <td>EOPE T1</td>\n",
       "      <td>39</td>\n",
       "      <td>59</td>\n",
       "    </tr>\n",
       "    <tr>\n",
       "      <th>9</th>\n",
       "      <td>LOPE T1</td>\n",
       "      <td>EOPE T2</td>\n",
       "      <td>41</td>\n",
       "      <td>45</td>\n",
       "    </tr>\n",
       "    <tr>\n",
       "      <th>10</th>\n",
       "      <td>LOPE T1</td>\n",
       "      <td>LOPE T1</td>\n",
       "      <td>76</td>\n",
       "      <td>81</td>\n",
       "    </tr>\n",
       "    <tr>\n",
       "      <th>11</th>\n",
       "      <td>LOPE T1</td>\n",
       "      <td>LOPE T2</td>\n",
       "      <td>52</td>\n",
       "      <td>55</td>\n",
       "    </tr>\n",
       "    <tr>\n",
       "      <th>12</th>\n",
       "      <td>LOPE T2</td>\n",
       "      <td>EOPE T1</td>\n",
       "      <td>52</td>\n",
       "      <td>56</td>\n",
       "    </tr>\n",
       "    <tr>\n",
       "      <th>13</th>\n",
       "      <td>LOPE T2</td>\n",
       "      <td>EOPE T2</td>\n",
       "      <td>0</td>\n",
       "      <td>49</td>\n",
       "    </tr>\n",
       "    <tr>\n",
       "      <th>14</th>\n",
       "      <td>LOPE T2</td>\n",
       "      <td>LOPE T1</td>\n",
       "      <td>49</td>\n",
       "      <td>51</td>\n",
       "    </tr>\n",
       "    <tr>\n",
       "      <th>15</th>\n",
       "      <td>LOPE T2</td>\n",
       "      <td>LOPE T2</td>\n",
       "      <td>94</td>\n",
       "      <td>96</td>\n",
       "    </tr>\n",
       "  </tbody>\n",
       "</table>\n",
       "</div>"
      ],
      "text/plain": [
       "   Model and genes Data validation  F1_Score  AUC\n",
       "0          EOPE T1         EOPE T1        93   94\n",
       "1          EOPE T1         EOPE T2        42   57\n",
       "2          EOPE T1         LOPE T1        42   63\n",
       "3          EOPE T1         LOPE T2        52   63\n",
       "4          EOPE T2         EOPE T1        49   52\n",
       "5          EOPE T2         EOPE T2        78   83\n",
       "6          EOPE T2         LOPE T1        41   45\n",
       "7          EOPE T2         LOPE T2        35   57\n",
       "8          LOPE T1         EOPE T1        39   59\n",
       "9          LOPE T1         EOPE T2        41   45\n",
       "10         LOPE T1         LOPE T1        76   81\n",
       "11         LOPE T1         LOPE T2        52   55\n",
       "12         LOPE T2         EOPE T1        52   56\n",
       "13         LOPE T2         EOPE T2         0   49\n",
       "14         LOPE T2         LOPE T1        49   51\n",
       "15         LOPE T2         LOPE T2        94   96"
      ]
     },
     "execution_count": 72,
     "metadata": {},
     "output_type": "execute_result"
    }
   ],
   "source": [
    "scaler = CellScaler()\n",
    "\n",
    "results = []\n",
    "\n",
    "for train_title, train_file_path in file_paths.items():\n",
    "    print(f\"--------------- Taking {train_title} model and genes to testing -----------------\")\n",
    "    # Load training data\n",
    "    X_train, _, _, _ = get_train_validation_input_pandas(train_file_path)\n",
    "\n",
    "    # get the genes, model and threshold\n",
    "    selected_genes = list(X_train.columns)  \n",
    "    optimal_threshold = thresholds[train_title]\n",
    "    model = load_predictor(model_paths[train_title])\n",
    "    \n",
    "    for test_title, test_file_path in file_paths.items():\n",
    "        # if train_title == test_title:\n",
    "        #     continue\n",
    "\n",
    "        print(f\"Testing with {test_title} data\")\n",
    "        \n",
    "        # Load the entire dataset for testing (not just validation)\n",
    "        all_genes_data = pd.read_csv(file_paths_all_genes[test_title], index_col=0).T\n",
    "        \n",
    "        # scaling 0-1\n",
    "        all_genes_data_scaled = pd.DataFrame(\n",
    "            scaler.fit_transform(all_genes_data),\n",
    "            columns=all_genes_data.columns,\n",
    "            index=all_genes_data.index\n",
    "        )\n",
    "\n",
    "        # add labels PE or Control to all genes matrix\n",
    "        all_genes_data_scaled[\"Sample Base\"] = all_genes_data_scaled.index\n",
    "        all_genes_data_scaled = assign_group(all_genes_data_scaled)\n",
    "\n",
    "        # Ensure all required genes are present in the DataFrame\n",
    "        for gene in selected_genes:\n",
    "            if gene not in all_genes_data_scaled.columns:\n",
    "                print(f\"Gene {gene} not found in {test_title} data. Adding it with 0 values.\")\n",
    "                all_genes_data_scaled[gene] = 0\n",
    "\n",
    "        # Predict probabilities using the trained model without NaN\n",
    "        y_proba = model.predict_proba(all_genes_data_scaled[selected_genes].fillna(0))[:, 1]\n",
    "        \n",
    "        # tranform labels from PE Control to 1, 0\n",
    "        y_true = [0 if x == \"Control\" else 1 for x in all_genes_data_scaled.Group.values]\n",
    "\n",
    "        # Calculate metrics\n",
    "        metrics = calculate_metrics(y_true, y_proba, optimal_threshold)\n",
    "        \n",
    "        # Append results\n",
    "        results.append({\n",
    "            \"Model and genes\": train_title,\n",
    "            \"Data validation\": test_title,\n",
    "            \"F1_Score\": metrics[\"F1_Score\"],\n",
    "            \"AUC\": metrics[\"AUC\"]\n",
    "        })\n",
    "\n",
    "    print(\"\\n\")\n",
    "\n",
    "# Convert results to a DataFrame for better visualization\n",
    "results_df = pd.DataFrame(results)\n",
    "results_df"
   ]
  },
  {
   "cell_type": "code",
   "execution_count": null,
   "metadata": {},
   "outputs": [
    {
     "name": "stderr",
     "output_type": "stream",
     "text": [
      "/tmp/ipykernel_187458/4245714641.py:6: FutureWarning: In a future version of pandas all arguments of DataFrame.pivot will be keyword-only.\n",
      "  f1_pivot = results_df.pivot(\"Model and genes\", \"Data validation\", \"F1_Score\")\n",
      "/tmp/ipykernel_187458/4245714641.py:9: FutureWarning: In a future version of pandas all arguments of DataFrame.pivot will be keyword-only.\n",
      "  auc_pivot = results_df.pivot(\"Model and genes\", \"Data validation\", \"AUC\")\n"
     ]
    },
    {
     "data": {
      "image/png": "[encoded data removed]",
      "text/plain": [
       "<Figure size 1000x800 with 2 Axes>"
      ]
     },
     "metadata": {},
     "output_type": "display_data"
    },
    {
     "data": {
      "image/png": "[encoded data removed]",
      "text/plain": [
       "<Figure size 1000x800 with 2 Axes>"
      ]
     },
     "metadata": {},
     "output_type": "display_data"
    }
   ],
   "source": [
    "# Crear una tabla pivotada para F1_Score\n",
    "f1_pivot = results_df.pivot(\"Model and genes\", \"Data validation\", \"F1_Score\")\n",
    "\n",
    "# Crear una tabla pivotada para AUC\n",
    "auc_pivot = results_df.pivot(\"Model and genes\", \"Data validation\", \"AUC\")\n",
    "\n",
    "# Configuración del estilo del gráfico\n",
    "sns.set(style=\"whitegrid\", font_scale=1.2)\n",
    "\n",
    "# Graficar Heatmap para F1_Score\n",
    "plt.figure(figsize=(10, 8))\n",
    "sns.heatmap(f1_pivot, annot=True, fmt=\".0f\", cmap=\"Blues\", cbar_kws={'label': 'F1_Score'})\n",
    "plt.title(\"F1_Score Heatmap\")\n",
    "plt.ylabel(\"Model and genes\")\n",
    "plt.xlabel(\"Data validation\")\n",
    "plt.tight_layout()\n",
    "plt.show()\n",
    "\n",
    "# Graficar Heatmap para AUC\n",
    "plt.figure(figsize=(10, 8))\n",
    "sns.heatmap(auc_pivot, annot=True, fmt=\".0f\", cmap=\"Reds\", cbar_kws={'label': 'AUC'})\n",
    "plt.title(\"AUC Heatmap\")\n",
    "plt.ylabel(\"Model and genes\")\n",
    "plt.xlabel(\"Data validation\")\n",
    "plt.tight_layout()\n",
    "plt.show()\n"
   ]
  },
  {
   "cell_type": "code",
   "execution_count": null,
   "metadata": {},
   "outputs": [],
   "source": []
  }
 ],
 "metadata": {
  "kernelspec": {
   "display_name": ".venv",
   "language": "python",
   "name": "python3"
  },
  "language_info": {
   "codemirror_mode": {
    "name": "ipython",
    "version": 3
   },
   "file_extension": ".py",
   "mimetype": "text/x-python",
   "name": "python",
   "nbconvert_exporter": "python",
   "pygments_lexer": "ipython3",
   "version": "3.10.12"
  }
 },
 "nbformat": 4,
 "nbformat_minor": 2
}
